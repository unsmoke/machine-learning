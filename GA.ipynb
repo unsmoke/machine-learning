{
 "cells": [
  {
   "cell_type": "code",
   "execution_count": 12,
   "metadata": {},
   "outputs": [
    {
     "name": "stdout",
     "output_type": "stream",
     "text": [
      "Kombinasi angka untuk mengurangi konsumsi rokok:\n",
      "[20, 19, 18, 18, 17, 17, 16, 16, 14, 13, 13, 12, 12, 11, 11, 8, 8, 8, 8, 6, 6, 4, 4, 2, 2, 1, 1, 0, 0, 0]\n"
     ]
    }
   ],
   "source": [
    "import random\n",
    "\n",
    "# Fungsi untuk menghitung total rokok dalam sehari\n",
    "def hitung_total_rokok(kombinasi):\n",
    "    return sum(kombinasi)\n",
    "\n",
    "# Fungsi fitness: Jumlah rokok yang lebih rendah memiliki fitness yang lebih baik\n",
    "def hitung_fitness(kombinasi, target):\n",
    "    total_rokok = hitung_total_rokok(kombinasi)\n",
    "    return max(target - total_rokok, 0)  # Semakin kecil jumlah rokok, semakin baik fitnessnya\n",
    "\n",
    "# Inisialisasi populasi awal\n",
    "def inisialisasi_populasi(ukuran_populasi, panjang_kromosom, jumlah_rokok_awal):\n",
    "    return [[random.randint(0, jumlah_rokok_awal) for _ in range(panjang_kromosom)] for _ in range(ukuran_populasi)]\n",
    "\n",
    "# Seleksi orangtua menggunakan turnamen\n",
    "def seleksi(populasi, fitness, ukuran_turnamen):\n",
    "    turnamen = random.sample(list(zip(populasi, fitness)), ukuran_turnamen)\n",
    "    return max(turnamen, key=lambda x: x[1])[0]\n",
    "\n",
    "# Operasi crossover satu titik\n",
    "def crossover(parent1, parent2):\n",
    "    titik_crossover = random.randint(0, len(parent1)-1)\n",
    "    anak1 = parent1[:titik_crossover] + parent2[titik_crossover:]\n",
    "    anak2 = parent2[:titik_crossover] + parent1[titik_crossover:]\n",
    "    return anak1, anak2\n",
    "\n",
    "# Operasi mutasi\n",
    "def mutasi(individu, prob_mutasi, jumlah_rokok_awal):\n",
    "    for i in range(len(individu)):\n",
    "        if random.random() < prob_mutasi:\n",
    "            individu[i] = random.randint(0, jumlah_rokok_awal)\n",
    "    return individu\n",
    "\n",
    "# Algoritma Genetika\n",
    "def genetika(jumlah_generasi, ukuran_populasi, panjang_kromosom, jumlah_rokok_awal, target):\n",
    "    populasi = inisialisasi_populasi(ukuran_populasi, panjang_kromosom, jumlah_rokok_awal)\n",
    "    for _ in range(jumlah_generasi):\n",
    "        fitness = [hitung_fitness(individu, target) for individu in populasi]\n",
    "\n",
    "        # Terapkan seleksi untuk memilih orangtua\n",
    "        orangtua1 = seleksi(populasi, fitness, 3)\n",
    "        orangtua2 = seleksi(populasi, fitness, 3)\n",
    "\n",
    "        # Lakukan crossover\n",
    "        anak1, anak2 = crossover(orangtua1, orangtua2)\n",
    "\n",
    "        # Lakukan mutasi\n",
    "        anak1 = mutasi(anak1, 0.1, jumlah_rokok_awal)\n",
    "        anak2 = mutasi(anak2, 0.1, jumlah_rokok_awal)\n",
    "\n",
    "        # Ganti populasi dengan anak-anak\n",
    "        populasi.extend([anak1, anak2])\n",
    "\n",
    "        # Cek apakah sudah mencapai target\n",
    "        if any(hitung_total_rokok(individu) <= target for individu in (anak1, anak2)):\n",
    "            break\n",
    "\n",
    "    # Mengembalikan solusi terbaik\n",
    "    solusi_terbaik = min(populasi, key=lambda x: hitung_fitness(x, target))\n",
    "    return solusi_terbaik\n",
    "\n",
    "# Contoh penggunaan\n",
    "jumlah_hari = 30  # Jumlah hari\n",
    "jumlah_rokok_awal_per_hari = 20  # Jumlah rokok awal yang dikonsumsi pengguna setiap hari\n",
    "target = 0  # Target jumlah rokok (0)\n",
    "\n",
    "ukuran_populasi = 100\n",
    "panjang_kromosom = jumlah_hari  # Panjang kromosom = jumlah hari\n",
    "\n",
    "solusi = genetika(1000, ukuran_populasi, panjang_kromosom, jumlah_rokok_awal_per_hari, target)\n",
    "print(\"Kombinasi angka untuk mengurangi konsumsi rokok:\")\n",
    "print(sorted(solusi,reverse=True))"
   ]
  }
 ],
 "metadata": {
  "kernelspec": {
   "display_name": "py3.11-TF2.0",
   "language": "python",
   "name": "python3"
  },
  "language_info": {
   "codemirror_mode": {
    "name": "ipython",
    "version": 3
   },
   "file_extension": ".py",
   "mimetype": "text/x-python",
   "name": "python",
   "nbconvert_exporter": "python",
   "pygments_lexer": "ipython3",
   "version": "3.11.5"
  }
 },
 "nbformat": 4,
 "nbformat_minor": 2
}
